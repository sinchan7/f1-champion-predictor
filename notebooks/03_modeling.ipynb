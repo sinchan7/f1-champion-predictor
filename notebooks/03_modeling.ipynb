{
 "cells": [
  {
   "cell_type": "code",
   "execution_count": 5,
   "id": "1621f44e",
   "metadata": {},
   "outputs": [
    {
     "data": {
      "text/plain": [
       "['../models/constructor_model.pkl']"
      ]
     },
     "execution_count": 5,
     "metadata": {},
     "output_type": "execute_result"
    }
   ],
   "source": [
    "from joblib import dump\n",
    "\n",
    "dump(driver_model, \"../models/driver_model.pkl\")\n",
    "dump(constructor_model, \"../models/constructor_model.pkl\")\n"
   ]
  },
  {
   "cell_type": "code",
   "execution_count": 4,
   "id": "12f05b89",
   "metadata": {},
   "outputs": [
    {
     "name": "stdout",
     "output_type": "stream",
     "text": [
      "🎯 Training Driver Champion Model...\n",
      "\n",
      "🔍 Driver Model Evaluation:\n",
      "Accuracy: 1.0\n",
      "              precision    recall  f1-score   support\n",
      "\n",
      "           0       1.00      1.00      1.00         9\n",
      "           1       1.00      1.00      1.00         1\n",
      "\n",
      "    accuracy                           1.00        10\n",
      "   macro avg       1.00      1.00      1.00        10\n",
      "weighted avg       1.00      1.00      1.00        10\n",
      "\n",
      "\n",
      "🏎️ Training Constructor Champion Model...\n",
      "\n",
      "🔍 Constructor Model Evaluation:\n",
      "Accuracy: 0.6666666666666666\n",
      "              precision    recall  f1-score   support\n",
      "\n",
      "           0       0.80      0.80      0.80         5\n",
      "           1       0.00      0.00      0.00         1\n",
      "\n",
      "    accuracy                           0.67         6\n",
      "   macro avg       0.40      0.40      0.40         6\n",
      "weighted avg       0.67      0.67      0.67         6\n",
      "\n"
     ]
    }
   ],
   "source": [
    "# ============================================\n",
    "# Phase 3 - Model Training Notebook\n",
    "# File: notebooks/03_model_training.ipynb\n",
    "# ============================================\n",
    "\n",
    "import pandas as pd\n",
    "from sklearn.model_selection import train_test_split\n",
    "from sklearn.ensemble import RandomForestClassifier\n",
    "from sklearn.metrics import accuracy_score, classification_report\n",
    "\n",
    "# =========================\n",
    "# Load Engineered Features\n",
    "# =========================\n",
    "\n",
    "driver_df = pd.read_csv(\"../data/features/driver_features.csv\")\n",
    "constructor_df = pd.read_csv(\"../data/features/constructor_features.csv\")\n",
    "\n",
    "# =========================\n",
    "# Train Driver Champion Model\n",
    "# =========================\n",
    "\n",
    "print(\"🎯 Training Driver Champion Model...\")\n",
    "\n",
    "# Features and label\n",
    "X_driver = driver_df.drop(columns=[\"season\", \"driver\", \"is_champion\"])\n",
    "y_driver = driver_df[\"is_champion\"]\n",
    "\n",
    "# Split data\n",
    "X_train_d, X_test_d, y_train_d, y_test_d = train_test_split(\n",
    "    X_driver, y_driver, test_size=0.2, random_state=42\n",
    ")\n",
    "\n",
    "# Train model\n",
    "driver_model = RandomForestClassifier(n_estimators=100, random_state=42)\n",
    "driver_model.fit(X_train_d, y_train_d)\n",
    "\n",
    "# Evaluate\n",
    "y_pred_d = driver_model.predict(X_test_d)\n",
    "print(\"\\n🔍 Driver Model Evaluation:\")\n",
    "print(\"Accuracy:\", accuracy_score(y_test_d, y_pred_d))\n",
    "print(classification_report(y_test_d, y_pred_d))\n",
    "\n",
    "# =========================\n",
    "# Train Constructor Champion Model\n",
    "# =========================\n",
    "\n",
    "print(\"\\n🏎️ Training Constructor Champion Model...\")\n",
    "\n",
    "# Features and label\n",
    "X_constructor = constructor_df.drop(columns=[\"season\", \"constructor\", \"is_champion\"])\n",
    "y_constructor = constructor_df[\"is_champion\"]\n",
    "\n",
    "# Split data\n",
    "X_train_c, X_test_c, y_train_c, y_test_c = train_test_split(\n",
    "    X_constructor, y_constructor, test_size=0.2, random_state=42\n",
    ")\n",
    "\n",
    "# Train model\n",
    "constructor_model = RandomForestClassifier(n_estimators=100, random_state=42)\n",
    "constructor_model.fit(X_train_c, y_train_c)\n",
    "\n",
    "# Evaluate\n",
    "y_pred_c = constructor_model.predict(X_test_c)\n",
    "print(\"\\n🔍 Constructor Model Evaluation:\")\n",
    "print(\"Accuracy:\", accuracy_score(y_test_c, y_pred_c))\n",
    "print(classification_report(y_test_c, y_pred_c))\n"
   ]
  },
  {
   "cell_type": "code",
   "execution_count": 3,
   "id": "b96c44c1",
   "metadata": {},
   "outputs": [
    {
     "name": "stdout",
     "output_type": "stream",
     "text": [
      "Driver Features Columns: ['season', 'driver', 'wins', 'seasons_participated']\n",
      "Constructor Features Columns: ['season', 'constructor', 'wins', 'final_position']\n"
     ]
    }
   ],
   "source": [
    "print(\"Driver Features Columns:\", driver_df.columns.tolist())\n",
    "print(\"Constructor Features Columns:\", constructor_df.columns.tolist())\n",
    "\n"
   ]
  }
 ],
 "metadata": {
  "kernelspec": {
   "display_name": "venv",
   "language": "python",
   "name": "python3"
  },
  "language_info": {
   "codemirror_mode": {
    "name": "ipython",
    "version": 3
   },
   "file_extension": ".py",
   "mimetype": "text/x-python",
   "name": "python",
   "nbconvert_exporter": "python",
   "pygments_lexer": "ipython3",
   "version": "3.13.5"
  }
 },
 "nbformat": 4,
 "nbformat_minor": 5
}
